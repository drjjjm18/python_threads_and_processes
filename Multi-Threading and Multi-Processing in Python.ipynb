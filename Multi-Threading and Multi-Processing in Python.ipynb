{
 "cells": [
  {
   "cell_type": "markdown",
   "id": "97923011",
   "metadata": {},
   "source": [
    "# Multi-Threading vs Multi-Processing"
   ]
  },
  {
   "cell_type": "markdown",
   "id": "dff6a007",
   "metadata": {},
   "source": [
    "This notebook covers examples of using multi-threading and multi-processing in python code to improve exection time, including examples of when its quickest to use multiple threads, processes or a combination.\n",
    "\n",
    "### The multi-threaded kitchen: understanding threads and processes\n",
    "\n",
    "Imagine you were running a kitchen with 3 meal orders, what would be the most efficient way to cook the meals?\n",
    "\n",
    "- Method 1 (_Single threaded_): Have a single chef follow the reciepe for each meal step by step. They start with the step of meal one, toasting some bread, then step two buttering it, and so on. Once meal one is finished they start with step one of meal two (boiling some water), then step two... until all three meals are cooked. This ensures the meals are cooked but is clearly a slow approach\n",
    "\n",
    "\n",
    "- Method 2 (_Multi-threaded_): Have a single chef follow the reciepe for all three at the same time. Instead of doing each meal sequentially, they look for opportunities to pick up parts of each meal concurrently. So whilst waiting for the bread to toast in meal one step one, they start boiling the water for meal two step one, and chop the vegetables for meal three step one whilst waiting for both of those step to complete. Using opportunities to complete steps in each meal whilst waiting for steps in others to complete allows for the three meals to be cooked more quickly.\n",
    "\n",
    "\n",
    "- Method 3 (_Multi-processed_): Have three chefs follow the reiepe for one of the meals each. Fully parallelise the cooking of each meal by having different chefs cook each meal at the same time. Chef 1 follows the reciepe for meal 1 step by step, chef 2 follows the reciepe for meal 2 step by step etc. This allows the three meals to be cooked at the same time and arrive more quickly\n",
    "\n",
    "\n",
    "It is clear that method 1 would be a slow approach to completeing these meals, and methods 2 and 3 offer good ways to improve the efficiency of how the food is cooked.\n",
    "\n",
    "Which out of method 2 and 3 is preferable will depend on the kind of meals being prepared:\n",
    "\n",
    "- _I/O bound meals_: If each meal involves steps with long wait times (such as boiling water or waiting for something to roast), then method 2 can be a efficient as method 3: a single chef can likely efficiently handle all meals as well as multiple chefs. Even though they only do a single step of a reciepe at a time, due to the waiting times they can efficiently complete steps for all meals at the same time\n",
    "\n",
    "\n",
    "- _cpu bound meals_: If each meal involves steps with lots of hands on tasks (lots of chopping and peeling for example) then method 3 will have an advanage over method 2: multiple chefs will be more efficient than a single chef. A single chef can only do one step at a time, so can only chop vegetables for meal two after finishing the chopping for meal one, whereas multiple chefs can chop for each meal simultaneously\n",
    "\n",
    "\n",
    "Here method 2 represents multi-threading in Python: in this case a single cpu splits tasks into multiple threads. Even though it can only work on a single thread at a time, for some programs (those be described below as I/O bound) it will be the most efficient approach. \n",
    "\n",
    "Method 3 represented multi-processing in Python: in this case tasks are split over multiple cpus, which work on tasks in parallel. For some programs (those described below as cpu bound), this will be the most efficient approach.\n",
    "\n",
    "### Some definitions\n",
    "\n",
    "**Multi-threading**: The ability for a single cpu to provide multiple threads of execution concurrently. Processing power is increased by splitting a single processes in multiple threads.\n",
    "\n",
    "**Multi-processing**: The ability for a system to use more than one cpu on parallel. Processing power is increased by using additional cpu cores to run multiple processes.\n",
    "\n",
    "**Cpu bound**: a program is cpu bound if its speed of execution is limited by the speed of cpu. A quicker cpu would allow quicker exection of a cpu bound program. Programs that are computation heavy, such lots of mathematical calculations is likely to be cpu bound.\n",
    "\n",
    "**I/O bound**: a program is I/O bound if its speed of execution is limited by input/output operations. The ability to more quickly read/write data to disk or recieve data from a server would allow quicker execution of an I/O bound program. Programs that involve writing or reading large objects to/from external servers are likely to be I/O bound.\n",
    "\n",
    "As mentioned, multi-threading is like having a single chef work on multiple meals at once. If a program is I/O bound, a cpu can use waiting time on one thread to work on a different thread. Multi-processing is like having multiple chefs work on different meals: each chef can work on their meals at the same time.\n",
    "\n",
    "### Some key differences\n",
    "\n",
    "#### The GIL\n",
    "A central difference between using threads and processes in Python comes down to the Global Interpreter Lock (GIL): the GIL means that only on thread in a process is ever executed at a time. So whilst a process might be split into multiple threads, Python will only be executing code in one thread at any time. Multi-processing is a way around the GIL, by splitting multiple processes over different cpus, threads on each of those cpus can be executed at the same time.\n",
    "\n",
    "This has consequences for the type of programs that either addtional processes or threads are most effective for:\n",
    "- multi-processing is likely to be most effective for a cpu bound program, as additional cpus can be used to execute computations in parallel. The GIL means that even using multiple threads, calcuations can only be executed in one thread at a time\n",
    "- multi-threading is likely to be most effective for an I/O bound program, as multiple threads as the wait time for multiple I/O operations can be executed concurrently  \n",
    "\n",
    "#### Memory\n",
    "Multiple threads use the same memory space, so objects can be shared between threads more easily (similar to how a single chef has access to the same workspace). The downside to a shared memory space is the possibility of _race conditions_: as threads access the same objects, unexpected behaviour can happen if they are accessing and updating values at the same time. \n",
    "\n",
    "Multiple processes each have their own copies of objects in their own memory space. As a result, they avoid race conditions. On the downside, sharing objects is more complicated and there is more memory overhead involved with processes, partially meaning spawning new processes is slower than spawning new threads."
   ]
  },
  {
   "cell_type": "markdown",
   "id": "d2001d07",
   "metadata": {},
   "source": [
    "## Testing multiple processes and threads in different kinds of programs"
   ]
  },
  {
   "cell_type": "code",
   "execution_count": 33,
   "id": "8c3cc0a3",
   "metadata": {},
   "outputs": [],
   "source": [
    "import time\n",
    "import requests\n",
    "# for multi-threading\n",
    "from multiprocessing.pool import ThreadPool\n",
    "# for multi-processing (the multiprocess fork of multiprocessing works better in jupyter notebooks)\n",
    "from multiprocess.pool import Pool\n",
    "# for combining both multi-threading and multi-processing\n",
    "from fast_map import fast_map\n",
    "import matplotlib.pyplot as plt"
   ]
  },
  {
   "cell_type": "markdown",
   "id": "1d9bee86",
   "metadata": {},
   "source": [
    "### CPU Bound Program"
   ]
  },
  {
   "cell_type": "markdown",
   "id": "de755e1e",
   "metadata": {},
   "source": [
    "Below is cpu bound function that relies on the speed of cpu computation"
   ]
  },
  {
   "cell_type": "code",
   "execution_count": 37,
   "id": "0d491b2f",
   "metadata": {},
   "outputs": [],
   "source": [
    "# a cpu bound function that returns a number raised to the power of itself\n",
    "def cpuBoundFunction(x):\n",
    "    return x**x"
   ]
  },
  {
   "cell_type": "markdown",
   "id": "ceadf4d1",
   "metadata": {},
   "source": [
    "##### Single threaded"
   ]
  },
  {
   "cell_type": "code",
   "execution_count": 40,
   "id": "9316d7d3",
   "metadata": {},
   "outputs": [
    {
     "name": "stdout",
     "output_type": "stream",
     "text": [
      "Finished in 47.21 seconds\n"
     ]
    }
   ],
   "source": [
    "start = time.perf_counter()\n",
    "\n",
    "# running a single threaded program over the values 0-19999\n",
    "results = list(map(cpuBoundFunction, range(20000)))\n",
    "  \n",
    "finish = time.perf_counter()\n",
    "print(f\"Finished in {round(finish-start, 2)} seconds\")"
   ]
  },
  {
   "cell_type": "markdown",
   "id": "8536fdee",
   "metadata": {},
   "source": [
    "#####  Multi-Threading"
   ]
  },
  {
   "cell_type": "code",
   "execution_count": 6,
   "id": "a9976b69",
   "metadata": {},
   "outputs": [
    {
     "name": "stdout",
     "output_type": "stream",
     "text": [
      "Finished in 36.41 seconds\n"
     ]
    }
   ],
   "source": [
    "start = time.perf_counter()\n",
    "\n",
    "# executing the calcuations with multiple threads\n",
    "threading = ThreadPool()\n",
    "results = list(threading.map(cpuBoundFunction, range(20000)))\n",
    "\n",
    "finish = time.perf_counter()\n",
    "print(f\"Finished in {round(finish-start, 2)} seconds\")"
   ]
  },
  {
   "cell_type": "markdown",
   "id": "f2ecbaa3",
   "metadata": {},
   "source": [
    "#####  Multi-Processing"
   ]
  },
  {
   "cell_type": "code",
   "execution_count": 7,
   "id": "31c43565",
   "metadata": {},
   "outputs": [
    {
     "name": "stdout",
     "output_type": "stream",
     "text": [
      "Finished in 28.72 seconds\n"
     ]
    }
   ],
   "source": [
    "start = time.perf_counter()\n",
    "\n",
    "# executing the calculations with multiple processes\n",
    "processing = Pool()\n",
    "results = list(processing.map(cpuBoundFunction, range(20000)))\n",
    "\n",
    "finish = time.perf_counter()\n",
    "print(f\"Finished in {round(finish-start, 2)} seconds\")"
   ]
  },
  {
   "cell_type": "markdown",
   "id": "99a00649",
   "metadata": {},
   "source": [
    "Whilst both additional threads and processes give a good speed improvement over single threaded programs, multi-processing executes the most quickly as expected, despite the additional time required to spawn processes"
   ]
  },
  {
   "cell_type": "markdown",
   "id": "4af77f56",
   "metadata": {},
   "source": [
    "##### Benchmarking"
   ]
  },
  {
   "cell_type": "code",
   "execution_count": 38,
   "id": "2b558496",
   "metadata": {},
   "outputs": [],
   "source": [
    "x_values = range(0, 20000, 2000)\n",
    "single_y = []\n",
    "threads_y = []\n",
    "processes_y = []\n",
    "\n",
    "for x in x_values:\n",
    "    start = time.perf_counter()\n",
    "    vids = list(map(cpuBoundFunction, range(x)))\n",
    "    finish = time.perf_counter()\n",
    "    single_y.append(round(finish-start, 2))\n",
    "\n",
    "for x in x_values:\n",
    "    start = time.perf_counter()\n",
    "    threading = ThreadPool()\n",
    "    vids = list(threading.map(cpuBoundFunction, range(x)))\n",
    "    finish = time.perf_counter()\n",
    "    threads_y.append(round(finish-start, 2))\n",
    "\n",
    "for x in x_values:\n",
    "    start = time.perf_counter()\n",
    "    processing = Pool()\n",
    "    vids = list(processing.map(cpuBoundFunction, range(x)))\n",
    "    finish = time.perf_counter()\n",
    "    processes_y.append(round(finish-start, 2))"
   ]
  },
  {
   "cell_type": "code",
   "execution_count": 39,
   "id": "e283b947",
   "metadata": {},
   "outputs": [
    {
     "data": {
      "image/png": "[encoded data removed]",
      "text/plain": [
       "<Figure size 432x288 with 1 Axes>"
      ]
     },
     "metadata": {
      "needs_background": "light"
     },
     "output_type": "display_data"
    }
   ],
   "source": [
    "plt.plot(x_values, single_y, label = \"single threaded\")\n",
    "plt.plot(x_values, threads_y, label = \"multi-threading\")\n",
    "plt.plot(x_values, processes_y, label = \"multi-processing\")\n",
    "plt.legend()\n",
    "plt.show()"
   ]
  },
  {
   "cell_type": "markdown",
   "id": "71e780fa",
   "metadata": {},
   "source": [
    "### IO Bound Program"
   ]
  },
  {
   "cell_type": "markdown",
   "id": "63cb65fc",
   "metadata": {},
   "source": [
    "Below is an I/O bound function, that requires downloading a video. Note that the requests library is passed as an argument in the function, to ensure each process can access it in their memory space (otherwise the multi-processing code wont run in jupyter)"
   ]
  },
  {
   "cell_type": "code",
   "execution_count": 8,
   "id": "cbc83389",
   "metadata": {},
   "outputs": [],
   "source": [
    "# an I/O bound program that downloads content from a url\n",
    "def IOBoundFunction(url, requests=requests):\n",
    "    return requests.get(url)"
   ]
  },
  {
   "cell_type": "code",
   "execution_count": 23,
   "id": "7bb4f821",
   "metadata": {},
   "outputs": [],
   "source": [
    "# a youtube video url\n",
    "url = 'https://www.youtube.com/watch?v=m4-HM_sCvtQ&ab_channel=Fireship'"
   ]
  },
  {
   "cell_type": "markdown",
   "id": "042a77f1",
   "metadata": {},
   "source": [
    "##### Single threaded"
   ]
  },
  {
   "cell_type": "code",
   "execution_count": 32,
   "id": "94164330",
   "metadata": {},
   "outputs": [
    {
     "name": "stdout",
     "output_type": "stream",
     "text": [
      "Finished in 21.3 seconds\n"
     ]
    }
   ],
   "source": [
    "start = time.perf_counter()\n",
    "\n",
    "# getting the video response 20 times in a single threaded program\n",
    "vids = list(map(IOBoundFunction, [url]*20))\n",
    "  \n",
    "finish = time.perf_counter()\n",
    "print(f\"Finished in {round(finish-start, 2)} seconds\")"
   ]
  },
  {
   "cell_type": "markdown",
   "id": "9951078f",
   "metadata": {},
   "source": [
    "#####  Multi-Threading"
   ]
  },
  {
   "cell_type": "code",
   "execution_count": 4,
   "id": "c6b6f5ba",
   "metadata": {},
   "outputs": [
    {
     "name": "stdout",
     "output_type": "stream",
     "text": [
      "Finished in 4.13 seconds\n"
     ]
    }
   ],
   "source": [
    "start = time.perf_counter()\n",
    "\n",
    "# multi-threading the 20 requests\n",
    "threading = ThreadPool()\n",
    "results = list(threading.map(IOBoundFunction, [url]*20))\n",
    "\n",
    "finish = time.perf_counter()\n",
    "print(f\"Finished in {round(finish-start, 2)} seconds\")"
   ]
  },
  {
   "cell_type": "markdown",
   "id": "8eae3448",
   "metadata": {},
   "source": [
    "##### Multi-Processing"
   ]
  },
  {
   "cell_type": "code",
   "execution_count": 5,
   "id": "eb8a97d8",
   "metadata": {},
   "outputs": [
    {
     "name": "stdout",
     "output_type": "stream",
     "text": [
      "Finished in 4.35 seconds\n"
     ]
    }
   ],
   "source": [
    "start = time.perf_counter()\n",
    "\n",
    "# multi-processing the 20 requests\n",
    "processing = Pool()\n",
    "results = list(processing.map(IOBoundFunction, [url]*20))\n",
    "  \n",
    "finish = time.perf_counter()\n",
    "print(f\"Finished in {round(finish-start, 2)} seconds\")"
   ]
  },
  {
   "cell_type": "markdown",
   "id": "acc84124",
   "metadata": {},
   "source": [
    "Whilst both threading and processing give a good speed improvement over single threaded programs, multi-threading executes slightly more quickly: due to the I/O bound nature of the function, threading can execute as quickly as multiple processes without the additional overhead involved in spawning processes "
   ]
  },
  {
   "cell_type": "markdown",
   "id": "35217939",
   "metadata": {},
   "source": [
    "##### Benchmarking"
   ]
  },
  {
   "cell_type": "code",
   "execution_count": 10,
   "id": "9cf69fcb",
   "metadata": {},
   "outputs": [],
   "source": [
    "x_values = range(0, 500, 50)\n",
    "single_y = []\n",
    "threads_y = []\n",
    "processes_y = []"
   ]
  },
  {
   "cell_type": "code",
   "execution_count": 11,
   "id": "e825c45c",
   "metadata": {},
   "outputs": [],
   "source": [
    "for x in x_values:\n",
    "    start = time.perf_counter()\n",
    "    vids = list(map(IOBoundFunction, [url]*x))\n",
    "    finish = time.perf_counter()\n",
    "    single_y.append(round(finish-start, 2))"
   ]
  },
  {
   "cell_type": "code",
   "execution_count": 12,
   "id": "5f64628e",
   "metadata": {},
   "outputs": [],
   "source": [
    "for x in x_values:\n",
    "    start = time.perf_counter()\n",
    "    threading = ThreadPool()\n",
    "    vids = list(threading.map(IOBoundFunction, [url]*x))\n",
    "    finish = time.perf_counter()\n",
    "    threads_y.append(round(finish-start, 2))"
   ]
  },
  {
   "cell_type": "code",
   "execution_count": 14,
   "id": "519112bb",
   "metadata": {},
   "outputs": [],
   "source": [
    "for x in x_values:\n",
    "    start = time.perf_counter()\n",
    "    processing = Pool()\n",
    "    vids = list(processing.map(IOBoundFunction, [url]*x))\n",
    "    finish = time.perf_counter()\n",
    "    processes_y.append(round(finish-start, 2))"
   ]
  },
  {
   "cell_type": "code",
   "execution_count": 18,
   "id": "1878ac01",
   "metadata": {},
   "outputs": [
    {
     "data": {
      "image/png": "[encoded data removed]",
      "text/plain": [
       "<Figure size 432x288 with 1 Axes>"
      ]
     },
     "metadata": {
      "needs_background": "light"
     },
     "output_type": "display_data"
    }
   ],
   "source": [
    "plt.plot(x_values, single_y[-10:], label = \"single threaded\")\n",
    "plt.plot(x_values, threads_y, label = \"multi-threading\")\n",
    "plt.plot(x_values, processes_y[-10:], label = \"multi-processing\")\n",
    "plt.legend()\n",
    "plt.show()"
   ]
  },
  {
   "cell_type": "markdown",
   "id": "501bea06",
   "metadata": {},
   "source": [
    "### What about a program that is both cpu and i/o bound?"
   ]
  },
  {
   "cell_type": "markdown",
   "id": "c4c4386b",
   "metadata": {},
   "source": [
    "Often there isn't a clear benefit to using both threads and processes, but in some cases, such as for cpu and I/O bound programs, it might be useful"
   ]
  },
  {
   "cell_type": "code",
   "execution_count": 22,
   "id": "1bd905ea",
   "metadata": {},
   "outputs": [],
   "source": [
    "# an I/O and cpu bound program that downloads content from a url and calculates numbers raised to the power of themselves\n",
    "def cpuAndIOBoundFunction(i, url=url, requests=requests):\n",
    "    response = requests.get(url)\n",
    "    val = i*i\n",
    "    return (val, response)"
   ]
  },
  {
   "cell_type": "markdown",
   "id": "de0c8090",
   "metadata": {},
   "source": [
    "##### Single threaded"
   ]
  },
  {
   "cell_type": "code",
   "execution_count": 45,
   "id": "55412794",
   "metadata": {},
   "outputs": [
    {
     "name": "stdout",
     "output_type": "stream",
     "text": [
      "Finished in 52.02 seconds\n"
     ]
    }
   ],
   "source": [
    "start = time.perf_counter()\n",
    "\n",
    "# 50 iterations of the cpu and I/O bound function in a single threaded approach\n",
    "result = list(map(cpuAndIOBoundFunction, range(1000, 1050)))\n",
    "  \n",
    "finish = time.perf_counter()\n",
    "print(f\"Finished in {round(finish-start, 2)} seconds\")"
   ]
  },
  {
   "cell_type": "markdown",
   "id": "a7d43b95",
   "metadata": {},
   "source": [
    "##### Multi-Threading"
   ]
  },
  {
   "cell_type": "code",
   "execution_count": 62,
   "id": "87672e1e",
   "metadata": {},
   "outputs": [
    {
     "name": "stdout",
     "output_type": "stream",
     "text": [
      "Finished in 14.52 seconds\n"
     ]
    }
   ],
   "source": [
    "start = time.perf_counter()\n",
    "\n",
    "# 50 iterations in a multi-threaded approach\n",
    "threading = ThreadPool()\n",
    "result = list(threading.map(cpuAndIOBoundFunction, range(1000, 1050)))\n",
    "  \n",
    "finish = time.perf_counter()\n",
    "print(f\"Finished in {round(finish-start, 2)} seconds\")"
   ]
  },
  {
   "cell_type": "markdown",
   "id": "f43fd2e8",
   "metadata": {},
   "source": [
    "##### Multi-Processing"
   ]
  },
  {
   "cell_type": "code",
   "execution_count": 47,
   "id": "f734b27d",
   "metadata": {},
   "outputs": [
    {
     "name": "stdout",
     "output_type": "stream",
     "text": [
      "Finished in 16.96 seconds\n"
     ]
    }
   ],
   "source": [
    "start = time.perf_counter()\n",
    "\n",
    "# 50 iterations in a multi-processes approach\n",
    "processing = Pool()\n",
    "result = list(processing.map(cpuAndIOBoundFunction, range(1000, 1050)))\n",
    "  \n",
    "finish = time.perf_counter()\n",
    "print(f\"Finished in {round(finish-start, 2)} seconds\")"
   ]
  },
  {
   "cell_type": "markdown",
   "id": "a9a9ad2b",
   "metadata": {},
   "source": [
    "##### fast_map to combine processes and threads"
   ]
  },
  {
   "cell_type": "markdown",
   "id": "4e4fcd0a",
   "metadata": {},
   "source": [
    "fast_map doesn't seem to work in jupyter notebooks, as demonstrated below (this is seems to be related to access to objects in different processes memory)"
   ]
  },
  {
   "cell_type": "code",
   "execution_count": 24,
   "id": "2b62aa2a",
   "metadata": {},
   "outputs": [
    {
     "name": "stdout",
     "output_type": "stream",
     "text": [
      "Finished in 0.71 seconds\n"
     ]
    }
   ],
   "source": [
    "if __name__ == '__main__':\n",
    "    start = time.perf_counter()\n",
    "    result = [i for i in fast_map(cpuAndIOBoundFunction, range(1000, 1050))]\n",
    "    finish = time.perf_counter()\n",
    "    print(f\"Finished in {round(finish-start, 2)} seconds\")"
   ]
  },
  {
   "cell_type": "code",
   "execution_count": 25,
   "id": "c94e0f1a",
   "metadata": {},
   "outputs": [
    {
     "data": {
      "text/plain": [
       "[]"
      ]
     },
     "execution_count": 25,
     "metadata": {},
     "output_type": "execute_result"
    }
   ],
   "source": [
    "result"
   ]
  },
  {
   "cell_type": "markdown",
   "id": "699cb3da",
   "metadata": {},
   "source": [
    "The same code is in the local fast_map_example.py file, which we can see executes more quickly than processing or threading"
   ]
  },
  {
   "cell_type": "code",
   "execution_count": 31,
   "id": "ac19992f",
   "metadata": {},
   "outputs": [
    {
     "name": "stdout",
     "output_type": "stream",
     "text": [
      "import time\n",
      "import requests\n",
      "from fast_map import fast_map\n",
      "\n",
      "# a youtube video url\n",
      "url = 'https://www.youtube.com/watch?v=m4-HM_sCvtQ&ab_channel=Fireship'\n",
      "\n",
      "# an I/O and cpu bound program that downloads content from a url and calculates numbers squared\n",
      "def cpuAndIOBoundFunction(i, url=url, requests=requests):\n",
      "    response = requests.get(url)\n",
      "    val = i*i\n",
      "    return (val, response)\n",
      "\n",
      "if __name__ == '__main__':\n",
      "    start = time.perf_counter()\n",
      "    result = [i for i in fast_map(cpuAndIOBoundFunction, range(1000, 1050))]\n",
      "    finish = time.perf_counter()\n",
      "    print(f\"Finished in {round(finish-start, 2)} seconds. Length of results = {len(result)}\")\n"
     ]
    }
   ],
   "source": [
    "!type fast_map_example.py"
   ]
  },
  {
   "cell_type": "code",
   "execution_count": 32,
   "id": "d976b8f0",
   "metadata": {},
   "outputs": [
    {
     "name": "stdout",
     "output_type": "stream",
     "text": [
      "Finished in 2.19 seconds. Length of results = 50\n"
     ]
    }
   ],
   "source": [
    "!python fast_map_example.py"
   ]
  }
 ],
 "metadata": {
  "kernelspec": {
   "display_name": "Python 3 (ipykernel)",
   "language": "python",
   "name": "python3"
  },
  "language_info": {
   "codemirror_mode": {
    "name": "ipython",
    "version": 3
   },
   "file_extension": ".py",
   "mimetype": "text/x-python",
   "name": "python",
   "nbconvert_exporter": "python",
   "pygments_lexer": "ipython3",
   "version": "3.8.0"
  }
 },
 "nbformat": 4,
 "nbformat_minor": 5
}
